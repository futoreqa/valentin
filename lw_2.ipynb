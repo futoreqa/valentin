{
 "cells": [
  {
   "metadata": {},
   "cell_type": "markdown",
   "source": "# Лабораторная №2",
   "id": "9e9f885ad1cd3def"
  },
  {
   "metadata": {},
   "cell_type": "markdown",
   "source": "## Условия, циклы, функции",
   "id": "425707c53189a3f4"
  },
  {
   "metadata": {},
   "cell_type": "markdown",
   "source": [
    "\n",
    "Нам дали задачу проверить, является ли участок земли квадратным. В переменных `length` и `width` заданы значения длины и ширины участка. Необходимо проверить, является ли он квадратным. Сохраните в переменную `result` значение `True`, если участок квадратный, и `False` — если нет."
   ],
   "id": "2a4a09414a32a3d5"
  },
  {
   "cell_type": "code",
   "id": "initial_id",
   "metadata": {
    "collapsed": true,
    "jupyter": {
     "is_executing": true
    }
   },
   "source": [
    "length = 121\n",
    "width = 100\n",
    "result = False\n",
    "\n",
    "#Пример 2\n",
    "length = 10\n",
    "width = 10\n",
    "result = True"
   ],
   "outputs": [],
   "execution_count": null
  },
  {
   "metadata": {
    "ExecuteTime": {
     "end_time": "2024-12-18T19:50:44.513407500Z",
     "start_time": "2024-12-09T11:59:13.033939Z"
    }
   },
   "cell_type": "code",
   "source": "# Напиши решение тут\n",
   "id": "2a8406f5868bba93",
   "outputs": [],
   "execution_count": 2
  },
  {
   "metadata": {},
   "cell_type": "markdown",
   "source": [
    "\n",
    "Мы решили выплатить премии сотрудникам в зависимости от их стажа работы. Премия рассчитывается следующим образом:\n",
    "\n",
    "- Если стаж работы сотрудника больше или равен 2 года, премия составляет 2 оклада.\n",
    "- Если стаж работы сотрудника больше или равен 5 лет, премия составляет 5 окладов.\n",
    "- Если стаж работы сотрудника больше или равен 15 лет, премия составляет 10 окладов.\n",
    "- Если стаж работы меньше 2 лет, премия равна 0.\n",
    "\n",
    "В переменной `salary` — зарплата сотрудника, в переменной `work_experience` — его стаж. Нужно вычислить размер премии и сохранить результат в переменную `result`."
   ],
   "id": "83b5067e4a0fa617"
  },
  {
   "metadata": {
    "ExecuteTime": {
     "end_time": "2024-12-18T19:50:44.536870800Z",
     "start_time": "2024-12-09T12:03:56.257743Z"
    }
   },
   "cell_type": "code",
   "source": [
    "# Пример 1\n",
    "salary = 150000\n",
    "work_experience = 3\n",
    "result = 300000\n",
    "\n",
    "# Пример 2\n",
    "salary = 100000\n",
    "work_experience = 1\n",
    "result = 0\n",
    "\n",
    "# Пример 3\n",
    "salary = 200000\n",
    "work_experience = 16\n",
    "result = 2000000"
   ],
   "id": "4947ebf0ab3ebbd8",
   "outputs": [],
   "execution_count": 5
  },
  {
   "metadata": {
    "ExecuteTime": {
     "end_time": "2024-12-18T19:50:44.537968Z",
     "start_time": "2024-12-09T12:03:56.912679Z"
    }
   },
   "cell_type": "code",
   "source": "# Напиши решение тут",
   "id": "1189f927e3a63e2c",
   "outputs": [],
   "execution_count": 6
  },
  {
   "metadata": {},
   "cell_type": "markdown",
   "source": "Есть словарь `sales`, содержащий информацию о продуктах и их ценах в магазине. В список `affordable_products` нужно сохранить названия всех продуктов, которые стоят меньше или равны 500.",
   "id": "1a47c0bb8604d85e"
  },
  {
   "metadata": {
    "ExecuteTime": {
     "end_time": "2024-12-18T19:50:44.537968Z",
     "start_time": "2024-12-09T12:07:09.130844Z"
    }
   },
   "cell_type": "code",
   "source": [
    "sales = {\n",
    "    \"laptop\": 700,\n",
    "    \"smartphone\": 100,\n",
    "    \"headphones\": 50,\n",
    "    \"mouse\": 20,\n",
    "    \"keyboard\": 40\n",
    "}\n",
    "# Output: ['laptop', 700]"
   ],
   "id": "d4fee48cb2dabcf5",
   "outputs": [],
   "execution_count": 8
  },
  {
   "metadata": {
    "ExecuteTime": {
     "end_time": "2024-12-18T19:50:44.537968Z",
     "start_time": "2024-12-09T12:06:09.712067Z"
    }
   },
   "cell_type": "code",
   "source": "# Напиши решение тут\n",
   "id": "5bb1f8d2b45d553a",
   "outputs": [],
   "execution_count": 7
  },
  {
   "metadata": {},
   "cell_type": "markdown",
   "source": [
    "Напишите программу, принимающую в виде аргументов два списка `lst_1` и `lst_2` и определяющую, являются ли они противоположными друг другу. Результат проверки сохраните в result в формате True или False.\n",
    "\n",
    "Каждая пара списков будет состоять из одинаковых элементов (типа a и b). Список считается анти-списком, если все элементы в нем противоположны соответствующим элементам в первом списке.\n"
   ],
   "id": "68ac8bcb0e04fdc5"
  },
  {
   "metadata": {
    "ExecuteTime": {
     "end_time": "2024-12-18T19:50:44.538972900Z",
     "start_time": "2024-12-09T12:10:09.589368Z"
    }
   },
   "cell_type": "code",
   "source": [
    "lst_1 = [\"1\", \"0\", \"0\", \"1\"]\n",
    "lst_2 = [\"0\", \"1\", \"1\", \"0\"]\n",
    "result = True\n",
    "\n",
    "lst_1 = [3, 4]\n",
    "lst_2 = [4, 3]\n",
    "result = True\n",
    "\n",
    "lst_1 = [1, 1]\n",
    "lst_2 = [2, 2]\n",
    "result = False\n"
   ],
   "id": "c247de3ee5a9e60a",
   "outputs": [],
   "execution_count": 9
  },
  {
   "metadata": {},
   "cell_type": "code",
   "outputs": [],
   "execution_count": null,
   "source": "# Напиши решение тут\n",
   "id": "c1b907387b93a29a"
  },
  {
   "metadata": {},
   "cell_type": "markdown",
   "source": [
    "Задана переменная `m` — список из списков одинаковой длины. Проверьте, что суммы элементов на диагоналях равны.\n",
    "\n",
    "Результат проверки сохраните в `result` в формате True или False."
   ],
   "id": "e6c61ed00e1f78e7"
  },
  {
   "metadata": {
    "ExecuteTime": {
     "end_time": "2024-12-18T20:03:33.762539Z",
     "start_time": "2024-12-18T20:03:33.759149Z"
    }
   },
   "cell_type": "code",
   "source": [
    "# Пример 1\n",
    "m = [[1, 23, 4],\n",
    "     [3, 2, 1],\n",
    "     [6, 3, 4]]\n",
    "result = False\n",
    "\n",
    "# Пример 2\n",
    "m = [[1, 23, 4],\n",
    "     [3, 2, 1],\n",
    "     [1, 3, 4]]\n",
    "result = True\n",
    "\n"
   ],
   "id": "52f6aa07b6b69e8",
   "outputs": [],
   "execution_count": 2
  },
  {
   "metadata": {
    "ExecuteTime": {
     "end_time": "2024-12-18T20:05:56.926384Z",
     "start_time": "2024-12-18T20:05:56.921965Z"
    }
   },
   "cell_type": "code",
   "source": [
    "# Напиши решение тут\n",
    "m = [[1, 23, 4],\n",
    "     [3, 2, 1],\n",
    "     [6, 3, 4]]\n",
    "rangeM = len(m)\n",
    "\n",
    "suma = sum(m[i][i] for i in range(rangeM))\n",
    "antisuma = sum(m[i][rangeM-i-1] for i in range(rangeM))\n",
    "print(suma)\n",
    "print(antisuma)"
   ],
   "id": "e305f64695a0519c",
   "outputs": [
    {
     "name": "stdout",
     "output_type": "stream",
     "text": [
      "7\n",
      "12\n"
     ]
    }
   ],
   "execution_count": 10
  },
  {
   "metadata": {},
   "cell_type": "markdown",
   "source": [
    "Дан список кортежей `input_list`. Отсортируйте `input_list` по 2 элементу кортежа в порядке убывания. Отфильтруйте список так, чтобы остались только те элементы, второе значение в кортеже у которых кратно 5.\n",
    "\n",
    "Результат сохраните в `result`.\n",
    "\n",
    "Для решения задачи используйте lambda-функцию."
   ],
   "id": "32734e2d177c9fa"
  },
  {
   "metadata": {
    "ExecuteTime": {
     "end_time": "2024-12-18T19:50:44.538972900Z",
     "start_time": "2024-12-09T22:14:35.135629Z"
    }
   },
   "cell_type": "code",
   "source": [
    "input_list = [('Anna', 13), ('Ivan', 20), ('Irina', 23), ('Olga', 25),\n",
    "              ('Ivan', 30), ('Oleg', 24), ('Olga', 26)]\n",
    "result = [('Ivan', 30), ('Olga', 25), ('Ivan', 20)]"
   ],
   "id": "54ca7285b6d4f539",
   "outputs": [],
   "execution_count": 15
  },
  {
   "metadata": {
    "ExecuteTime": {
     "end_time": "2024-12-18T19:55:19.615221Z",
     "start_time": "2024-12-18T19:55:19.609667Z"
    }
   },
   "cell_type": "code",
   "source": [
    "# Напиши решение тут\n",
    "input_list = [('Anna', 13), ('Ivan', 20), ('Irina', 23), ('Olga', 25),\n",
    "              ('Ivan', 30), ('Oleg', 24), ('Olga', 26)]\n",
    "\n",
    "result = [item for item in input_list if item[1] % 5 == 0] \n",
    "print(result)"
   ],
   "id": "9c9b829170cb8f2a",
   "outputs": [
    {
     "name": "stdout",
     "output_type": "stream",
     "text": [
      "[('Ivan', 20), ('Olga', 25), ('Ivan', 30)]\n"
     ]
    }
   ],
   "execution_count": 1
  },
  {
   "metadata": {},
   "cell_type": "markdown",
   "source": [
    "Гипотеза Коллатца: какое бы начальное натуральное число n мы ни взяли, рано или поздно мы получим единицу, если выполняем следующие преобразования:\n",
    "\n",
    "- Если n чётное, то делим его на 2;\n",
    "- Если n нечётное, то умножаем на 3 и прибавляем 1 (получаем 3n + 1).\n",
    "Напишите функцию `def collatz_conjecture()`, которая будет принимать натуральное число n и возвращать последовательность чисел, полученных указанными выше преобразованиями."
   ],
   "id": "d7f53fd342d1cd0f"
  },
  {
   "metadata": {
    "ExecuteTime": {
     "end_time": "2024-12-18T19:50:44.538972900Z",
     "start_time": "2024-12-09T22:15:55.023155Z"
    }
   },
   "cell_type": "code",
   "source": [
    "def collatz_conjecture(n):\n",
    "    ...\n",
    "\n",
    "collatz_conjecture(8) # -> [8, 4, 2, 1]\n",
    "collatz_conjecture(3) # -> [3, 10, 5, 16, 8, 4, 2, 1]\n"
   ],
   "id": "a11c1692c9761fa4",
   "outputs": [],
   "execution_count": 16
  },
  {
   "metadata": {
    "ExecuteTime": {
     "end_time": "2024-12-18T20:17:37.048225Z",
     "start_time": "2024-12-18T20:17:37.043573Z"
    }
   },
   "cell_type": "code",
   "source": [
    "# Напиши решение тут\n",
    "def collatz_conjecture(n):\n",
    "    steps =[]\n",
    "    while n != 1: \n",
    "        steps.append(n)\n",
    "        if n % 2 == 0:\n",
    "            n = n / 2\n",
    "        else:\n",
    "            n = 3 * n + 1\n",
    "    steps.append(1)\n",
    "    return steps\n",
    "n = 255\n",
    "result = collatz_conjecture(n)\n",
    "print(result)\n",
    "        "
   ],
   "id": "5b5cc07ed41f2515",
   "outputs": [
    {
     "name": "stdout",
     "output_type": "stream",
     "text": [
      "[255, 766, 383.0, 1150.0, 575.0, 1726.0, 863.0, 2590.0, 1295.0, 3886.0, 1943.0, 5830.0, 2915.0, 8746.0, 4373.0, 13120.0, 6560.0, 3280.0, 1640.0, 820.0, 410.0, 205.0, 616.0, 308.0, 154.0, 77.0, 232.0, 116.0, 58.0, 29.0, 88.0, 44.0, 22.0, 11.0, 34.0, 17.0, 52.0, 26.0, 13.0, 40.0, 20.0, 10.0, 5.0, 16.0, 8.0, 4.0, 2.0, 1]\n"
     ]
    }
   ],
   "execution_count": 43
  },
  {
   "metadata": {},
   "cell_type": "code",
   "outputs": [],
   "execution_count": null,
   "source": "",
   "id": "66e355f0ba688423"
  }
 ],
 "metadata": {
  "kernelspec": {
   "display_name": "Python 3",
   "language": "python",
   "name": "python3"
  },
  "language_info": {
   "codemirror_mode": {
    "name": "ipython",
    "version": 2
   },
   "file_extension": ".py",
   "mimetype": "text/x-python",
   "name": "python",
   "nbconvert_exporter": "python",
   "pygments_lexer": "ipython2",
   "version": "2.7.6"
  }
 },
 "nbformat": 4,
 "nbformat_minor": 5
}
