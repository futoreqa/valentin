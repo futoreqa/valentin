{
 "cells": [
  {
   "metadata": {},
   "cell_type": "markdown",
   "source": "# Лабораторная №2",
   "id": "9e9f885ad1cd3def"
  },
  {
   "metadata": {},
   "cell_type": "markdown",
   "source": "## Условия, циклы, функции",
   "id": "425707c53189a3f4"
  },
  {
   "metadata": {},
   "cell_type": "markdown",
   "source": [
    "\n",
    "Нам дали задачу проверить, является ли участок земли квадратным. В переменных `length` и `width` заданы значения длины и ширины участка. Необходимо проверить, является ли он квадратным. Сохраните в переменную `result` значение `True`, если участок квадратный, и `False` — если нет."
   ],
   "id": "2a4a09414a32a3d5"
  },
  {
   "cell_type": "code",
   "id": "initial_id",
   "metadata": {
    "collapsed": true,
    "ExecuteTime": {
     "end_time": "2024-12-09T11:59:00.117606Z",
     "start_time": "2024-12-09T11:59:00.114166Z"
    }
   },
   "source": [
    "from decorator import append\n",
    "\n",
    "length = 121\n",
    "width = 100\n",
    "result = False\n",
    "\n",
    "#Пример 2\n",
    "length = 10\n",
    "width = 10\n",
    "result = True"
   ],
   "outputs": [],
   "execution_count": 1
  },
  {
   "metadata": {
    "ExecuteTime": {
     "end_time": "2024-12-17T13:32:32.690904Z",
     "start_time": "2024-12-17T13:32:32.684270Z"
    }
   },
   "cell_type": "code",
   "source": [
    "# Напиши решение тут\n",
    "length = 10\n",
    "width = 10\n",
    "result = True if width == length else False\n",
    "print(result)"
   ],
   "id": "2a8406f5868bba93",
   "outputs": [
    {
     "name": "stdout",
     "output_type": "stream",
     "text": [
      "True\n"
     ]
    }
   ],
   "execution_count": 1
  },
  {
   "metadata": {},
   "cell_type": "markdown",
   "source": [
    "\n",
    "Мы решили выплатить премии сотрудникам в зависимости от их стажа работы. Премия рассчитывается следующим образом:\n",
    "\n",
    "- Если стаж работы сотрудника больше или равен 2 года, премия составляет 2 оклада.\n",
    "- Если стаж работы сотрудника больше или равен 5 лет, премия составляет 5 окладов.\n",
    "- Если стаж работы сотрудника больше или равен 15 лет, премия составляет 10 окладов.\n",
    "- Если стаж работы меньше 2 лет, премия равна 0.\n",
    "\n",
    "В переменной `salary` — зарплата сотрудника, в переменной `work_experience` — его стаж. Нужно вычислить размер премии и сохранить результат в переменную `result`."
   ],
   "id": "83b5067e4a0fa617"
  },
  {
   "metadata": {
    "ExecuteTime": {
     "end_time": "2024-12-09T12:03:56.260649Z",
     "start_time": "2024-12-09T12:03:56.257743Z"
    }
   },
   "cell_type": "code",
   "source": [
    "# Пример 1\n",
    "salary = 150000\n",
    "work_experience = 3\n",
    "result = 300000\n",
    "\n",
    "# Пример 2\n",
    "salary = 100000\n",
    "work_experience = 1\n",
    "result = 0\n",
    "\n",
    "# Пример 3\n",
    "salary = 200000\n",
    "work_experience = 16\n",
    "result = 2000000"
   ],
   "id": "4947ebf0ab3ebbd8",
   "outputs": [],
   "execution_count": 5
  },
  {
   "metadata": {
    "ExecuteTime": {
     "end_time": "2024-12-17T13:38:17.231638Z",
     "start_time": "2024-12-17T13:38:17.226698Z"
    }
   },
   "cell_type": "code",
   "source": [
    "salary = 10 # Пример 1\n",
    "work_experience = 31\n",
    "\n",
    "# Определяем множитель премии в зависимости от стажа\n",
    "bonus_factors = {15: 10, 5: 5, 2: 2}\n",
    "\n",
    "# Находим подходящий множитель\n",
    "result = next((multiplier * salary for min_exp, multiplier in bonus_factors.items() if work_experience >= min_exp), 0)\n",
    "\n",
    "# Выводим результат\n",
    "print(result)\n"
   ],
   "id": "1189f927e3a63e2c",
   "outputs": [
    {
     "name": "stdout",
     "output_type": "stream",
     "text": [
      "100\n"
     ]
    }
   ],
   "execution_count": 4
  },
  {
   "metadata": {},
   "cell_type": "markdown",
   "source": "Есть словарь `sales`, содержащий информацию о продуктах и их ценах в магазине. В список `affordable_products` нужно сохранить названия всех продуктов, которые стоят меньше или равны 500.",
   "id": "1a47c0bb8604d85e"
  },
  {
   "metadata": {
    "ExecuteTime": {
     "end_time": "2024-12-09T12:07:09.133555Z",
     "start_time": "2024-12-09T12:07:09.130844Z"
    }
   },
   "cell_type": "code",
   "source": [
    "sales = {\n",
    "    \"laptop\": 700,\n",
    "    \"smartphone\": 100,\n",
    "    \"headphones\": 50,\n",
    "    \"mouse\": 20,\n",
    "    \"keyboard\": 40\n",
    "}\n",
    "# Output: ['laptop', 700]"
   ],
   "id": "d4fee48cb2dabcf5",
   "outputs": [],
   "execution_count": 8
  },
  {
   "metadata": {
    "ExecuteTime": {
     "end_time": "2024-12-17T13:42:49.507130Z",
     "start_time": "2024-12-17T13:42:49.502397Z"
    }
   },
   "cell_type": "code",
   "source": [
    "# Напиши решение тут\n",
    "sales = {\n",
    "    \"laptop\": 700,\n",
    "    \"smartphone\": 100,\n",
    "    \"headphones\": 50,\n",
    "    \"mouse\": 20,\n",
    "    \"keyboard\": 40\n",
    "}\n",
    "affordable_products = [item for item , price in sales.items() if price <= 500]\n",
    "print(affordable_products)"
   ],
   "id": "5bb1f8d2b45d553a",
   "outputs": [
    {
     "name": "stdout",
     "output_type": "stream",
     "text": [
      "['smartphone', 'headphones', 'mouse', 'keyboard']\n"
     ]
    }
   ],
   "execution_count": 8
  },
  {
   "metadata": {},
   "cell_type": "markdown",
   "source": [
    "Напишите программу, принимающую в виде аргументов два списка `lst_1` и `lst_2` и определяющую, являются ли они противоположными друг другу. Результат проверки сохраните в result в формате True или False.\n",
    "\n",
    "Каждая пара списков будет состоять из одинаковых элементов (типа a и b). Список считается анти-списком, если все элементы в нем противоположны соответствующим элементам в первом списке.\n"
   ],
   "id": "68ac8bcb0e04fdc5"
  },
  {
   "metadata": {
    "ExecuteTime": {
     "end_time": "2024-12-09T12:10:09.592660Z",
     "start_time": "2024-12-09T12:10:09.589368Z"
    }
   },
   "cell_type": "code",
   "source": [
    "lst_1 = [\"1\", \"0\", \"0\", \"1\"]\n",
    "lst_2 = [\"0\", \"1\", \"1\", \"0\"]\n",
    "result = True\n",
    "\n",
    "lst_1 = [3, 4]\n",
    "lst_2 = [4, 3]\n",
    "result = True\n",
    "\n",
    "lst_1 = [1, 1]\n",
    "lst_2 = [2, 2]\n",
    "result = False\n"
   ],
   "id": "c247de3ee5a9e60a",
   "outputs": [],
   "execution_count": 9
  },
  {
   "metadata": {
    "ExecuteTime": {
     "end_time": "2024-12-17T13:56:24.554537Z",
     "start_time": "2024-12-17T13:56:24.549106Z"
    }
   },
   "cell_type": "code",
   "source": [
    "lst_1 = [\"1\", \"0\", \"0\", \"1\"]\n",
    "lst_2 = [\"0\", \"1\", \"1\", \"0\"]\n",
    "\n",
    "for i in range(len(lst_1)):  \n",
    "    if lst_1[i] == lst_2[i]:  \n",
    "        print(False)\n",
    "    else:\n",
    "        print(True ) \n",
    "\n",
    "print([lst_1[i] != lst_2[i] for i in range(len(lst_1))])\n",
    "\n",
    "\n"
   ],
   "id": "c1b907387b93a29a",
   "outputs": [
    {
     "name": "stdout",
     "output_type": "stream",
     "text": [
      "True\n",
      "True\n",
      "[True, True]\n"
     ]
    }
   ],
   "execution_count": 19
  },
  {
   "metadata": {},
   "cell_type": "markdown",
   "source": [
    "Задана переменная `m` — список из списков одинаковой длины. Проверьте, что суммы элементов на диагоналях равны.\n",
    "\n",
    "Результат проверки сохраните в `result` в формате True или False."
   ],
   "id": "e6c61ed00e1f78e7"
  },
  {
   "metadata": {
    "ExecuteTime": {
     "end_time": "2024-12-18T06:57:24.122583Z",
     "start_time": "2024-12-18T06:57:24.117963Z"
    }
   },
   "cell_type": "code",
   "source": [
    "# Пример 1\n",
    "m = [[1, 23, 4],\n",
    "     [3, 2, 1],\n",
    "     [6, 3, 4]]\n",
    "result = False\n",
    "\n",
    "# Пример 2\n",
    "m = [[1, 23, 4],\n",
    "     [3, 2, 1],\n",
    "     [1, 3, 4]]\n",
    "result = True\n",
    "\n"
   ],
   "id": "52f6aa07b6b69e8",
   "outputs": [],
   "execution_count": 21
  },
  {
   "metadata": {
    "ExecuteTime": {
     "end_time": "2025-05-26T10:36:37.235803Z",
     "start_time": "2025-05-26T10:36:37.229571Z"
    }
   },
   "cell_type": "code",
   "source": [
    "# Напиши решение тут\n",
    "m = [[1, 23, 4],\n",
    "     [3, 2, 1],\n",
    "     [6, 3, 4]]\n",
    "\n",
    "main_diag_sum = sum(m[i][i] for i in range(len(m)))\n",
    "secondary_diag_sum = sum(m[i][len(m)-1-i] for i in range(len(m)))\n",
    "\n",
    "# Проверим равенство сумм\n",
    "result = main_diag_sum == secondary_diag_sum\n",
    "\n",
    "print(result)"
   ],
   "id": "e305f64695a0519c",
   "outputs": [
    {
     "name": "stdout",
     "output_type": "stream",
     "text": [
      "False\n"
     ]
    }
   ],
   "execution_count": 4
  },
  {
   "metadata": {},
   "cell_type": "markdown",
   "source": [
    "Дан список кортежей `input_list`. Отсортируйте `input_list` по 2 элементу кортежа в порядке убывания. Отфильтруйте список так, чтобы остались только те элементы, второе значение в кортеже у которых кратно 5.\n",
    "\n",
    "Результат сохраните в `result`.\n",
    "\n",
    "Для решения задачи используйте lambda-функцию."
   ],
   "id": "32734e2d177c9fa"
  },
  {
   "metadata": {
    "ExecuteTime": {
     "end_time": "2024-12-09T22:14:35.143038Z",
     "start_time": "2024-12-09T22:14:35.135629Z"
    }
   },
   "cell_type": "code",
   "source": [
    "input_list = [('Anna', 13), ('Ivan', 20), ('Irina', 23), ('Olga', 25),\n",
    "              ('Ivan', 30), ('Oleg', 24), ('Olga', 26)]\n",
    "result = [('Ivan', 30), ('Olga', 25), ('Ivan', 20)]"
   ],
   "id": "54ca7285b6d4f539",
   "outputs": [],
   "execution_count": 15
  },
  {
   "metadata": {
    "ExecuteTime": {
     "end_time": "2025-05-26T10:37:49.150661Z",
     "start_time": "2025-05-26T10:37:49.144142Z"
    }
   },
   "cell_type": "code",
   "source": [
    "# Напиши решение тут\n",
    "input_list = [('Anna', 13), ('Ivan', 20), ('Irina', 23), ('Olga', 25),\n",
    "              ('Ivan', 30), ('Oleg', 24), ('Olga', 26)]\n",
    "\n",
    "# Отфильтровать список, оставив только те элементы, у которых второе значение кратно 5\n",
    "filtered_list = list(filter(lambda x: x[1] % 5 == 0, input_list))\n",
    "\n",
    "# Отсортировать filtered_list по второму элементу кортежа в порядке убывания\n",
    "result = sorted(filtered_list, key=lambda x: x[1], reverse=True)\n",
    "\n",
    "print(result)\n"
   ],
   "id": "9c9b829170cb8f2a",
   "outputs": [
    {
     "name": "stdout",
     "output_type": "stream",
     "text": [
      "[('Ivan', 30), ('Olga', 25), ('Ivan', 20)]\n"
     ]
    }
   ],
   "execution_count": 5
  },
  {
   "metadata": {},
   "cell_type": "markdown",
   "source": [
    "Гипотеза Коллатца: какое бы начальное натуральное число n мы ни взяли, рано или поздно мы получим единицу, если выполняем следующие преобразования:\n",
    "\n",
    "- Если n чётное, то делим его на 2;\n",
    "- Если n нечётное, то умножаем на 3 и прибавляем 1 (получаем 3n + 1).\n",
    "Напишите функцию `def collatz_conjecture()`, которая будет принимать натуральное число n и возвращать последовательность чисел, полученных указанными выше преобразованиями."
   ],
   "id": "d7f53fd342d1cd0f"
  },
  {
   "metadata": {
    "ExecuteTime": {
     "end_time": "2024-12-09T22:15:55.028720Z",
     "start_time": "2024-12-09T22:15:55.023155Z"
    }
   },
   "cell_type": "code",
   "source": [
    "def collatz_conjecture(n):\n",
    "    ...\n",
    "\n",
    "collatz_conjecture(8) # -> [8, 4, 2, 1]\n",
    "collatz_conjecture(3) # -> [3, 10, 5, 16, 8, 4, 2, 1]\n"
   ],
   "id": "a11c1692c9761fa4",
   "outputs": [],
   "execution_count": 16
  },
  {
   "metadata": {
    "ExecuteTime": {
     "end_time": "2025-05-26T11:00:37.366142Z",
     "start_time": "2025-05-26T11:00:37.358739Z"
    }
   },
   "cell_type": "code",
   "source": [
    "# Напиши решение тут\n",
    "def collatz_conjecture(n):\n",
    "    sequence = [n] \n",
    "    while n != 1:\n",
    "        if n % 2 == 0:\n",
    "            n = n // 2  # Если число чётное, делим на 2\n",
    "        else:\n",
    "            n = 3 * n + 1  # Если число нечётное, умножаем на 3 и прибавляем 1\n",
    "        sequence.append(n)  # Добавляем новое число в последовательность\n",
    "    return sequence\n",
    "\n",
    "print(collatz_conjecture(8))  \n",
    "print(collatz_conjecture(3551))  \n"
   ],
   "id": "5b5cc07ed41f2515",
   "outputs": [
    {
     "name": "stdout",
     "output_type": "stream",
     "text": [
      "[8, 4, 2, 1]\n",
      "[3551, 10654, 5327, 15982, 7991, 23974, 11987, 35962, 17981, 53944, 26972, 13486, 6743, 20230, 10115, 30346, 15173, 45520, 22760, 11380, 5690, 2845, 8536, 4268, 2134, 1067, 3202, 1601, 4804, 2402, 1201, 3604, 1802, 901, 2704, 1352, 676, 338, 169, 508, 254, 127, 382, 191, 574, 287, 862, 431, 1294, 647, 1942, 971, 2914, 1457, 4372, 2186, 1093, 3280, 1640, 820, 410, 205, 616, 308, 154, 77, 232, 116, 58, 29, 88, 44, 22, 11, 34, 17, 52, 26, 13, 40, 20, 10, 5, 16, 8, 4, 2, 1]\n"
     ]
    }
   ],
   "execution_count": 1
  },
  {
   "metadata": {},
   "cell_type": "code",
   "outputs": [],
   "execution_count": null,
   "source": "",
   "id": "7ecb5c1228c48490"
  }
 ],
 "metadata": {
  "kernelspec": {
   "display_name": "Python 3",
   "language": "python",
   "name": "python3"
  },
  "language_info": {
   "codemirror_mode": {
    "name": "ipython",
    "version": 2
   },
   "file_extension": ".py",
   "mimetype": "text/x-python",
   "name": "python",
   "nbconvert_exporter": "python",
   "pygments_lexer": "ipython2",
   "version": "2.7.6"
  }
 },
 "nbformat": 4,
 "nbformat_minor": 5
}
