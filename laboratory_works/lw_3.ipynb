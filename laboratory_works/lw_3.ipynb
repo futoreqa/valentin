{
 "cells": [
  {
   "metadata": {},
   "cell_type": "markdown",
   "source": "# Лабораторная №3",
   "id": "e9c397d9723b81f9"
  },
  {
   "metadata": {},
   "cell_type": "markdown",
   "source": "## Регулярные выражения",
   "id": "e9126e1929543902"
  },
  {
   "metadata": {},
   "cell_type": "markdown",
   "source": "В нашем магазине все товарные коды всегда имеют формат \"B123\", где \"B\" — это буква, а \"123\" — цифры. Напишите программу, которая проверяет, соответствует ли товарный код этому формату.",
   "id": "5c13064c49a1b748"
  },
  {
   "metadata": {},
   "cell_type": "code",
   "outputs": [],
   "execution_count": null,
   "source": "import re",
   "id": "5be394ea56bf93bc"
  },
  {
   "cell_type": "code",
   "id": "initial_id",
   "metadata": {
    "collapsed": true,
    "ExecuteTime": {
     "end_time": "2025-05-26T11:02:11.485663Z",
     "start_time": "2025-05-26T11:02:11.477811Z"
    }
   },
   "source": [
    "import re\n",
    "\n",
    "def check_product_code(code):\n",
    "    pattern = r\"^[A-Z]\\d{3}$\"\n",
    "    if re.match(pattern, code):\n",
    "        return True\n",
    "    else:\n",
    "        return False\n",
    "\n",
    "\n",
    "# Пример вызова\n",
    "product_code = \"B152\"\n",
    "result = check_product_code(product_code)\n",
    "print(result)  \n",
    "\n"
   ],
   "outputs": [
    {
     "name": "stdout",
     "output_type": "stream",
     "text": [
      "True\n"
     ]
    }
   ],
   "execution_count": 1
  },
  {
   "metadata": {},
   "cell_type": "markdown",
   "source": "Нам часто поступает список книг в виде строки, где данные о каждой книге разделены пробелами или запятыми. Напишите программу, которая будет извлекать информацию о каждой книге (название, автор, год издания) и выводить их по категориям.",
   "id": "4bc60da9bced479c"
  },
  {
   "metadata": {
    "ExecuteTime": {
     "end_time": "2025-05-26T11:13:12.093084Z",
     "start_time": "2025-05-26T11:13:12.086224Z"
    }
   },
   "cell_type": "code",
   "source": [
    "def extract_book_info(data):\n",
    "    elements = data.split(',')\n",
    "    \n",
    "    titles = []\n",
    "    authors = []\n",
    "    years = []\n",
    "    \n",
    "    # Проходим по элементам тройками (название, автор, год)\n",
    "    for i in range(0, len(elements), 3):\n",
    "        title = elements[i].strip()\n",
    "        author = elements[i+1].strip()\n",
    "        year = elements[i+2].strip()\n",
    "        \n",
    "        titles.append(title)\n",
    "        authors.append(author)\n",
    "        years.append(year)\n",
    "        \n",
    "    return titles, authors, years\n",
    "\n",
    "data = \"The Great Gatsby,F. Scott Fitzgerald,1925,1984,George Orwell,1949,To Kill a Mockingbird,Harper Lee,1960\"\n",
    "titles, authors, years = extract_book_info(data)\n",
    "\n",
    "# Выводим результаты\n",
    "print(\"Titles:\", titles)\n",
    "print(\"Authors:\", authors)\n",
    "print(\"Years:\", years)\n"
   ],
   "id": "b4dd5b399b1fb610",
   "outputs": [
    {
     "name": "stdout",
     "output_type": "stream",
     "text": [
      "Titles: ['The Great Gatsby', '1984', 'To Kill a Mockingbird']\n",
      "Authors: ['F. Scott Fitzgerald', 'George Orwell', 'Harper Lee']\n",
      "Years: ['1925', '1949', '1960']\n"
     ]
    }
   ],
   "execution_count": 2
  },
  {
   "metadata": {},
   "cell_type": "markdown",
   "source": [
    "Нам необходимо собирать контактные данные клиентов.\n",
    "Напишите программу, которая проверяет, соответствует ли введенный адрес электронной почты клиента **правильному** формату."
   ],
   "id": "3bb615a06135b91a"
  },
  {
   "metadata": {},
   "cell_type": "markdown",
   "source": [
    "Правильный формат адреса электронной почты обычно определяется следующими правилами:\n",
    "\n",
    "1. **Имя пользователя (local part)**:\n",
    "   - Может содержать буквы, цифры, точки (`.`), дефисы (`-`), знаки подчеркивания (`_`).\n",
    "   - Не может начинаться или заканчиваться точкой (`.`).\n",
    "   - Не допускается последовательность точек (`..`).\n",
    "\n",
    "2. **Символ `@`**:\n",
    "   - Разделяет имя пользователя и домен.\n",
    "   - Должен присутствовать ровно один раз.\n",
    "\n",
    "3. **Доменная часть (domain)**:\n",
    "   - Состоит из букв, цифр, дефисов (`-`) и точек (`.`).\n",
    "   - Должен содержать хотя бы одну точку.\n",
    "   - Доменное имя не может начинаться или заканчиваться дефисом (`-`) или точкой (`.`).\n",
    "\n",
    "4. **Домен верхнего уровня (TLD)**:\n",
    "   - Обычно состоит из 2 или более букв (например, `.com`, `.org`, `.ru`).\n",
    "\n",
    "\n",
    "\n",
    "#### Примеры ввода и проверки:\n",
    "- **Допустимые адреса**:\n",
    "  - `example@gmail.com`\n",
    "  - `user.name@sub.domain.org`\n",
    "  - `first_last123@domain.co.uk`\n",
    "\n",
    "- **Недопустимые адреса**:\n",
    "  - `user@.com` (домен не может начинаться с точки)\n",
    "  - `@domain.com` (нет имени пользователя)\n",
    "  - `user@domain` (нет TLD)\n",
    "  - `user@@domain.com` (две `@`)"
   ],
   "id": "ac585e1b9812306b"
  },
  {
   "metadata": {
    "ExecuteTime": {
     "end_time": "2025-05-26T11:16:41.988235Z",
     "start_time": "2025-05-26T11:16:41.981264Z"
    }
   },
   "cell_type": "code",
   "source": [
    "import re\n",
    "\n",
    "def is_valid_email(email):\n",
    "    # Проверяем наличие ровно одного символа @\n",
    "    if email.count('@') != 1:\n",
    "        return False\n",
    "    \n",
    "    local_part, domain_part = email.split('@')\n",
    "\n",
    "    # Проверяем local_part (имя пользователя)\n",
    "    if not re.match(r'^[A-Za-z0-9._-]+$', local_part):\n",
    "        return False\n",
    "    if local_part.startswith('.') or local_part.endswith('.'):\n",
    "        return False\n",
    "    if '..' in local_part:\n",
    "        return False\n",
    "\n",
    "    # Проверяем domain_part (домен)\n",
    "    if not re.match(r'^[A-Za-z0-9.-]+$', domain_part):\n",
    "        return False\n",
    "    if domain_part.startswith('.') or domain_part.endswith('.') or domain_part.startswith('-') or domain_part.endswith('-'):\n",
    "        return False\n",
    "    if '.' not in domain_part:\n",
    "        return False\n",
    "\n",
    "    # Проверяем TLD (последняя часть после последней точки)\n",
    "    tld = domain_part.split('.')[-1]\n",
    "    if len(tld) < 2 or not tld.isalpha():\n",
    "        return False\n",
    "    \n",
    "    return True\n",
    "\n",
    "# Пример использования\n",
    "emails = [\n",
    "    \"example@gmail.com\",\n",
    "    \"user.name@sub.domain.org\",\n",
    "    \"first_last123@domain.co.uk\",\n",
    "    \"user@.com\",\n",
    "    \"user.-name@domain.com\",\n",
    "    \".username@domain.com\",\n",
    "    \"username.@domain.com\",\n",
    "    \"user@domain-.com\",\n",
    "    \"user@-domain.com\",\n",
    "]\n",
    "\n",
    "for email in emails:\n",
    "    result = \"Допустимый\" if is_valid_email(email) else \"Недопустимый\"\n",
    "    print(f\"{email}: {result}\")\n",
    "\n"
   ],
   "id": "20e834bfb2499f8c",
   "outputs": [
    {
     "name": "stdout",
     "output_type": "stream",
     "text": [
      "example@gmail.com: Допустимый\n",
      "user.name@sub.domain.org: Допустимый\n",
      "first_last123@domain.co.uk: Допустимый\n",
      "user@.com: Недопустимый\n",
      "user.-name@domain.com: Допустимый\n",
      ".username@domain.com: Недопустимый\n",
      "username.@domain.com: Недопустимый\n",
      "user@domain-.com: Допустимый\n",
      "user@-domain.com: Недопустимый\n"
     ]
    }
   ],
   "execution_count": 4
  },
  {
   "metadata": {},
   "cell_type": "markdown",
   "source": [
    "Иногда клиенты могут указывать свои пищевые ограничения.\n",
    "Напишите программу, которая проверяет, упоминаются ли в записи ограничения на определенные продукты, такие как \"глютен\", \"лактоза\" или \"орехи\"."
   ],
   "id": "1cbf05c36d87598d"
  },
  {
   "metadata": {
    "ExecuteTime": {
     "end_time": "2025-05-26T11:17:54.099924Z",
     "start_time": "2025-05-26T11:17:54.090909Z"
    }
   },
   "cell_type": "code",
   "source": [
    "def check_restrictions(data):\n",
    "    # Приведем текст к нижнему регистру для удобства поиска\n",
    "    data = data.lower()\n",
    "    \n",
    "    # Список ключевых слов для проверки\n",
    "    restrictions = ['gluten', 'lactose', 'nuts']\n",
    "    \n",
    "    # Проверим наличие хотя бы одного из ключевых слов в тексте\n",
    "    for restriction in restrictions:\n",
    "        if restriction in data:\n",
    "            return True\n",
    "    return False\n",
    "\n",
    "client_data = \"My diet excludes products containing lactose and gluten.\"\n",
    "if check_restrictions(client_data):\n",
    "    print(\"Dietary restrictions detected.\")\n",
    "else:\n",
    "    print(\"No dietary restrictions detected.\")\n"
   ],
   "id": "4310d3bfe276a135",
   "outputs": [
    {
     "name": "stdout",
     "output_type": "stream",
     "text": [
      "Dietary restrictions detected.\n"
     ]
    }
   ],
   "execution_count": 6
  },
  {
   "metadata": {},
   "cell_type": "markdown",
   "source": [
    "Предположим, у вас есть текст, который может содержать несколько телефонных номеров. Каждый номер телефона записан в формате:\n",
    "\n",
    "- `(XXX) XXX-XXXX`\n",
    "- `XXX-XXX-XXXX`\n",
    "- `XXX.XXX.XXXX`\n",
    "- `XXX XXX XXXX`\n",
    "\n",
    "Где `X` — цифра от 0 до 9.\n",
    "\n",
    "Напишите программу, которая будет искать все телефонные номера в тексте и выводить их.\n"
   ],
   "id": "e8561ff50da1f5f8"
  },
  {
   "metadata": {
    "ExecuteTime": {
     "end_time": "2025-05-26T11:18:30.668020Z",
     "start_time": "2025-05-26T11:18:30.661081Z"
    }
   },
   "cell_type": "code",
   "source": [
    "import re\n",
    "\n",
    "# Пример текста\n",
    "text = \"\"\"\n",
    "Здесь есть несколько телефонных номеров:\n",
    "(123) 456-7890\n",
    "987-654-3210\n",
    "555.123.4567\n",
    "111 222 3333\n",
    "и какой-то неправильный номер: 1234-5678\n",
    "\"\"\"\n",
    "\n",
    "# Регулярное выражение для поиска всех форматов\n",
    "pattern = r'''\n",
    "    (                               \n",
    "    \\(\\d{3}\\)\\s\\d{3}-\\d{4}          # (XXX) XXX-XXXX\n",
    "    |                               \n",
    "    \\d{3}-\\d{3}-\\d{4}               # XXX-XXX-XXXX\n",
    "    |                               \n",
    "    \\d{3}\\.\\d{3}\\.\\d{4}             # XXX.XXX.XXXX\n",
    "    |                               \n",
    "    \\d{3}\\s\\d{3}\\s\\d{4}             # XXX XXX XXXX\n",
    "    )                               \n",
    "'''\n",
    "\n",
    "# Ищем все совпадения в тексте\n",
    "matches = re.findall(pattern, text, re.VERBOSE)\n",
    "\n",
    "# Выводим найденные номера телефонов\n",
    "for match in matches:\n",
    "    print(match)\n"
   ],
   "id": "2e021001b77dffe7",
   "outputs": [
    {
     "name": "stdout",
     "output_type": "stream",
     "text": [
      "(123) 456-7890\n",
      "987-654-3210\n",
      "555.123.4567\n",
      "111 222 3333\n"
     ]
    }
   ],
   "execution_count": 7
  },
  {
   "metadata": {},
   "cell_type": "code",
   "outputs": [],
   "execution_count": null,
   "source": "",
   "id": "c3f540c4c8c1fa46"
  }
 ],
 "metadata": {
  "kernelspec": {
   "display_name": "Python 3",
   "language": "python",
   "name": "python3"
  },
  "language_info": {
   "codemirror_mode": {
    "name": "ipython",
    "version": 2
   },
   "file_extension": ".py",
   "mimetype": "text/x-python",
   "name": "python",
   "nbconvert_exporter": "python",
   "pygments_lexer": "ipython2",
   "version": "2.7.6"
  }
 },
 "nbformat": 4,
 "nbformat_minor": 5
}
