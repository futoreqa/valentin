{
 "cells": [
  {
   "metadata": {},
   "cell_type": "markdown",
   "source": "# Лабораторная №1",
   "id": "9a81179d10da8330"
  },
  {
   "metadata": {},
   "cell_type": "markdown",
   "source": "## Типы данных",
   "id": "13feb24fde5be69a"
  },
  {
   "metadata": {},
   "cell_type": "markdown",
   "source": [
    "Создайте программу, которая будет приветствовать пользователя:\n",
    "Сначала попросите пользователя ввести свое имя.\n",
    "Затем выведите приветственное сообщение, используя введенное имя."
   ],
   "id": "535f9e86de783809"
  },
  {
   "metadata": {},
   "cell_type": "markdown",
   "source": "",
   "id": "bcd9b83f1ac47e82"
  },
  {
   "metadata": {},
   "cell_type": "markdown",
   "source": [
    "#### Пример:\n",
    "Enter your name: Olya\\\n",
    "Hi, Olya! Welcome!\n"
   ],
   "id": "6023d4389ce6cd8"
  },
  {
   "cell_type": "code",
   "id": "initial_id",
   "metadata": {
    "collapsed": true,
    "ExecuteTime": {
     "end_time": "2024-12-17T10:56:01.750527Z",
     "start_time": "2024-12-17T10:55:51.964036Z"
    }
   },
   "source": [
    "# Напиши решение тут\n",
    "user_name = input('Enter your name: ')\n",
    "\n",
    "print(\"Hi ,\" + user_name + \"! Welcome!\")"
   ],
   "outputs": [
    {
     "name": "stdout",
     "output_type": "stream",
     "text": [
      "Hi ,Valentin! Welcome!\n"
     ]
    }
   ],
   "execution_count": 1
  },
  {
   "metadata": {},
   "cell_type": "markdown",
   "source": [
    "\n",
    "1. Создайте переменную `user_name` и сохраните в нее имя пользователя (строка, минимум из двух символов).\n",
    "2. Создайте переменную `device_name` и сохраните в нее название устройства (строка, минимум из двух символов).\n",
    "3. Создайте переменную `device_age`, в которой будет храниться возраст устройства (неотрицательное число).\n",
    "4. Создайте переменную `is_under_warranty`, которая будет содержать значение `True`, если устройство на гарантии, или `False`, если нет."
   ],
   "id": "c974779de734f3f5"
  },
  {
   "metadata": {
    "ExecuteTime": {
     "end_time": "2024-12-17T11:06:28.261266Z",
     "start_time": "2024-12-17T11:06:28.257421Z"
    }
   },
   "cell_type": "code",
   "source": [
    "user_name = \"Иван\" \n",
    "device_name = \"Смартфон\"\n",
    "device_age = 2 \n",
    "is_under_warranty = True  "
   ],
   "id": "1706cc04f917c519",
   "outputs": [],
   "execution_count": 6
  },
  {
   "metadata": {},
   "cell_type": "markdown",
   "source": "Выведите на экран тип данных для определенных ранее переменных.",
   "id": "9167b3f37213d5a8"
  },
  {
   "metadata": {
    "ExecuteTime": {
     "end_time": "2024-12-17T11:06:30.787292Z",
     "start_time": "2024-12-17T11:06:30.781924Z"
    }
   },
   "cell_type": "code",
   "source": [
    "# Напиши решение тут\n",
    "print(\"Type of user_name: \", type(user_name))\n",
    "print(\"Type of device_name: \", type(device_name))\n",
    "print(\"Type of device_age: \", type(device_age))\n",
    "print(\"Type of is_under_warranty: \", type(is_under_warranty))"
   ],
   "id": "a5fde07e6e8977cb",
   "outputs": [
    {
     "name": "stdout",
     "output_type": "stream",
     "text": [
      "Type of user_name:  <class 'str'>\n",
      "Type of device_name:  <class 'str'>\n",
      "Type of device_age:  <class 'int'>\n",
      "Type of is_under_warranty:  <class 'bool'>\n"
     ]
    }
   ],
   "execution_count": 7
  },
  {
   "metadata": {},
   "cell_type": "markdown",
   "source": [
    "1. Преобразуйте строку имени в нижний регистр и сохраните результат в новой переменной.\n",
    "2. Создайте строку по шаблону `\"user_name__object_name\"`.\n",
    "3. Выведите длину получившейся строки."
   ],
   "id": "4beb2fbddf03bbda"
  },
  {
   "metadata": {
    "ExecuteTime": {
     "end_time": "2024-12-17T11:08:36.341342Z",
     "start_time": "2024-12-17T11:08:36.335908Z"
    }
   },
   "cell_type": "code",
   "source": [
    "# Напиши решение тут\n",
    "user_name_lower = user_name.lower()\n",
    "string = 'user_name_object_name'\n",
    "print(len(string))"
   ],
   "id": "573c572586967639",
   "outputs": [
    {
     "name": "stdout",
     "output_type": "stream",
     "text": [
      "21\n"
     ]
    }
   ],
   "execution_count": 8
  },
  {
   "metadata": {},
   "cell_type": "markdown",
   "source": [
    "Используя навыки форматирования строк в Python, выведите на экран следующую фразу, подставив значения переменных:\n",
    "\"{user_name} недавно приобрел {object_name}, которому всего {object_age} лет.\""
   ],
   "id": "5d547bfdd571f872"
  },
  {
   "metadata": {
    "ExecuteTime": {
     "end_time": "2024-12-17T11:15:23.937332Z",
     "start_time": "2024-12-17T11:15:23.932568Z"
    }
   },
   "cell_type": "code",
   "source": [
    "# Напиши решение тут\n",
    "object_name = 'диод'\n",
    "object_age = 45\n",
    "formatted_string = f\"{user_name} недавно приобрел {object_name}, которому всего {object_age} лет.\"  \n",
    "print(formatted_string)"
   ],
   "id": "93d009ebee158763",
   "outputs": [
    {
     "name": "stdout",
     "output_type": "stream",
     "text": [
      "Иван недавно приобрел диод, которому всего 45 лет.\n"
     ]
    }
   ],
   "execution_count": 18
  },
  {
   "metadata": {},
   "cell_type": "markdown",
   "source": "Нам интересно узнать, является ли имя объекта палиндромом. Проверьте это, используя срезы.",
   "id": "b182d7062fd2ec90"
  },
  {
   "metadata": {
    "ExecuteTime": {
     "end_time": "2024-12-17T11:15:17.661335Z",
     "start_time": "2024-12-17T11:15:17.655371Z"
    }
   },
   "cell_type": "code",
   "source": [
    "# Напиши решение тут\n",
    "object_name = \"довод\"\n",
    "if(object_name == object_name[::-1]) :\n",
    "    print(object_name)\n",
    "else:\n",
    "    print('Обьект не палиндром')"
   ],
   "id": "8de8e4c76fac1e71",
   "outputs": [
    {
     "name": "stdout",
     "output_type": "stream",
     "text": [
      "довод\n"
     ]
    }
   ],
   "execution_count": 17
  },
  {
   "metadata": {},
   "cell_type": "markdown",
   "source": [
    "В переменной `our_text` сохранено некоторое предложение, в котором могут быть добавлены лишние пробелы. Напишите программу, которая будет убирать из `our_text` лишние пробелы и сохранять результат в переменную `result`.\n",
    "Все слова должны быть разделены одним пробелом, а в начале и конце предложения пробелов быть не должно."
   ],
   "id": "b0158dd42eeebfed"
  },
  {
   "metadata": {
    "ExecuteTime": {
     "end_time": "2024-12-08T10:05:12.367240Z",
     "start_time": "2024-12-08T10:05:12.363874Z"
    }
   },
   "cell_type": "code",
   "source": [
    "our_text = \"We     are located  on Pushkin      Street.   \"\n",
    "result = \"We are located on Pushkin Street.\""
   ],
   "id": "3cd4f31f635bca0",
   "outputs": [],
   "execution_count": 6
  },
  {
   "metadata": {
    "ExecuteTime": {
     "end_time": "2024-12-17T11:20:36.180851Z",
     "start_time": "2024-12-17T11:20:36.175698Z"
    }
   },
   "cell_type": "code",
   "source": [
    "# Напиши решение тут\n",
    "import re\n",
    "our_text = \"We     are located  on Pushkin      Street.   \"\n",
    "our_text_formated = re.sub(r'\\s+', ' ', our_text)\n",
    "print(our_text_formated)"
   ],
   "id": "36705cf2b1431541",
   "outputs": [
    {
     "name": "stdout",
     "output_type": "stream",
     "text": [
      "We are located on Pushkin Street. \n"
     ]
    }
   ],
   "execution_count": 23
  },
  {
   "metadata": {},
   "cell_type": "markdown",
   "source": [
    "Мы хотим улучшить процесс шифрования и хранения информации о платежах, чтобы обеспечить конфиденциальность и защиту данных.\\\n",
    "Напишите программу, которая будет принимать номер кредитной карты `card` и возвращать номер карты, в котором будут видны только последние 4 цифры. Остальные цифры должны заменяться звездочками.\\\n",
    "Результат сохраните в `result`."
   ],
   "id": "df621069ed13e48"
  },
  {
   "metadata": {
    "ExecuteTime": {
     "end_time": "2024-12-08T10:06:51.486317Z",
     "start_time": "2024-12-08T10:06:51.483740Z"
    }
   },
   "cell_type": "code",
   "source": [
    "card = '5468350018455833'\n",
    "result = '************5833'"
   ],
   "id": "5cee3863129cccf0",
   "outputs": [],
   "execution_count": 11
  },
  {
   "metadata": {
    "ExecuteTime": {
     "end_time": "2024-12-17T13:29:45.132083Z",
     "start_time": "2024-12-17T13:29:45.126848Z"
    }
   },
   "cell_type": "code",
   "source": [
    "# Напиши решение тут\n",
    "def mask_card_number(card):\n",
    "    # Оставляем только последние 4 цифры и заменяем остальные на звездочки\n",
    "    result = '*' * (len(card) - 4) + card[:4]\n",
    "    return result\n",
    "\n",
    "# Пример использования\n",
    "card = \"5468350018455833\"\n",
    "result = mask_card_number(card)\n",
    "print(result)\n"
   ],
   "id": "a16eca170ac4f54b",
   "outputs": [
    {
     "name": "stdout",
     "output_type": "stream",
     "text": [
      "************5468\n"
     ]
    }
   ],
   "execution_count": 95
  },
  {
   "metadata": {},
   "cell_type": "markdown",
   "source": [
    "В переменной `my_list` сохранен не пустой список, в котором есть число 11.\n",
    "\n",
    "Найдите первый индекс числа 11 в `my_list`, сохраните индекс в переменную `eleven_index`.\n",
    "\n",
    "В переменную `ten_count` сохраните, сколько раз в списке `my_list` встречается число 10."
   ],
   "id": "800123d387461d89"
  },
  {
   "metadata": {
    "ExecuteTime": {
     "end_time": "2024-12-17T12:04:19.495934Z",
     "start_time": "2024-12-17T12:04:19.490675Z"
    }
   },
   "cell_type": "code",
   "source": [
    "my_list = [1, 9, 0, 9, 10]\n",
    "ten_index = 4\n",
    "nine_count = 2\n",
    "\n",
    "\n",
    "my_list = [11, 2, 0, 6]\n",
    "ten_index = 0\n",
    "nine_count = 0"
   ],
   "id": "c648910d57bbaea4",
   "outputs": [],
   "execution_count": 40
  },
  {
   "metadata": {
    "ExecuteTime": {
     "end_time": "2024-12-17T12:10:00.172554Z",
     "start_time": "2024-12-17T12:10:00.166439Z"
    }
   },
   "cell_type": "code",
   "source": [
    "# Напиши решение тут\n",
    "my_list = [1, 9, 11 ,  10 , 0, 9,11, 10]\n",
    "eleven_index = -1\n",
    "ten_count = 0\n",
    "for i in range(len(my_list)):\n",
    "    if(my_list[i] == 10):\n",
    "        ten_count += 1\n",
    "    if(my_list[i] == 11 and eleven_index == -1):\n",
    "        print(\"Number :\" , my_list[i] , \"Index =\" , i)\n",
    "        eleven_index = i\n",
    "print('Число 10 встречается : ' , ten_count ,'\\n')\n",
    "\n",
    "if 11 in my_list:\n",
    "    print(\"Number:\", 11, \"Index =\", my_list.index(11))\n",
    "ten_count = my_list.count(10)\n",
    "print('Число 10 встречается:', ten_count)\n",
    "\n",
    "\n"
   ],
   "id": "a7ffd1e1c7452fe2",
   "outputs": [
    {
     "name": "stdout",
     "output_type": "stream",
     "text": [
      "Number : 11 Index = 2\n",
      "Число 10 встречается :  2 \n",
      "\n",
      "Number: 11 Index = 2\n",
      "Число 10 встречается: 2\n"
     ]
    }
   ],
   "execution_count": 54
  },
  {
   "metadata": {},
   "cell_type": "markdown",
   "source": [
    "1. В списке `names` содержатся различные имена. Добавьте в этот список два новых имени: `'Ann'` и `'Bob'`.\n",
    "2. В списке `dates` содержится список из десяти чисел, представляющих дни месяца. Удалите из этого списка второй, пятый и последний день. Учтите, что индексы элементов смещаются после каждой операции удаления.\n",
    "3. В списке `items` содержатся названия различных элементов. Отсортируйте этот список в алфавитном порядке."
   ],
   "id": "1b82470f1fe0d82e"
  },
  {
   "metadata": {
    "ExecuteTime": {
     "end_time": "2024-12-08T23:10:46.481634Z",
     "start_time": "2024-12-08T23:10:46.477465Z"
    }
   },
   "cell_type": "code",
   "outputs": [],
   "execution_count": 6,
   "source": [
    "names = ['Peter', 'Maria', 'Alexander', 'Olga']\n",
    "dates = [1, 3, 5, 7, 9, 10, 12, 14, 16, 18]\n",
    "items = ['Lamp', 'Table', 'Book', 'Pen', 'Notebook']\n"
   ],
   "id": "9ebac36854610ddb"
  },
  {
   "metadata": {
    "ExecuteTime": {
     "end_time": "2024-12-17T12:24:40.550916Z",
     "start_time": "2024-12-17T12:24:40.545383Z"
    }
   },
   "cell_type": "code",
   "source": [
    "# Напиши решение тут\n",
    "names = ['Peter', 'Maria', 'Alexander', 'Olga']\n",
    "dates = [1, 3, 5, 7, 9, 10, 12, 14, 16, 18]\n",
    "\n",
    "names.extend(['Ann' , 'bob'])\n",
    "print(names)\n",
    "dates.pop(1)\n",
    "dates.pop(3)\n",
    "dates = dates[:-1]\n",
    "print(dates)\n"
   ],
   "id": "d0bc008d95ee498b",
   "outputs": [
    {
     "name": "stdout",
     "output_type": "stream",
     "text": [
      "['Peter', 'Maria', 'Alexander', 'Olga', 'Ann', 'bob']\n",
      "[1, 5, 7, 10, 12, 14, 16]\n"
     ]
    }
   ],
   "execution_count": 71
  },
  {
   "metadata": {},
   "cell_type": "markdown",
   "source": "В переменной `catalog` хранится множество всех товаров интернет-магазина, а в переменной `out_of_stock` — множество товаров, которые отсутствуют на складе. Сохраните в переменную `available_items` товары, которые доступны для заказа.",
   "id": "f6d415e4a4c9cbe5"
  },
  {
   "metadata": {
    "ExecuteTime": {
     "end_time": "2024-12-08T23:14:11.276325Z",
     "start_time": "2024-12-08T23:14:11.272652Z"
    }
   },
   "cell_type": "code",
   "source": [
    "catalog = {\"Laptop\", \"Smartphone\", \"Headphones\", \"Camera\", \"Tablet\"}\n",
    "out_of_stock = {\"Camera\", \"Tablet\"}\n",
    "\n",
    "result =  {'Laptop', 'Smartphone', 'Headphones'}"
   ],
   "id": "e04c3bd33acd20f3",
   "outputs": [],
   "execution_count": 8
  },
  {
   "metadata": {
    "ExecuteTime": {
     "end_time": "2024-12-17T12:31:43.175878Z",
     "start_time": "2024-12-17T12:31:43.170584Z"
    }
   },
   "cell_type": "code",
   "source": [
    "# Напиши решение тут\n",
    "catalog = {\"Laptop\", \"Smartphone\", \"Headphones\", \"Camera\", \"Tablet\"}\n",
    "out_of_stock = {\"Camera\", \"Tablet\"}\n",
    "available_items = [item for item in catalog if item not in out_of_stock]\n",
    "\n",
    "print(available_items)"
   ],
   "id": "33800330d03fefcc",
   "outputs": [
    {
     "name": "stdout",
     "output_type": "stream",
     "text": [
      "['Laptop', 'Headphones', 'Smartphone']\n"
     ]
    }
   ],
   "execution_count": 77
  },
  {
   "metadata": {},
   "cell_type": "markdown",
   "source": "В переменной `my_set` множество (set) из чисел. В переменной `to_delete` число, которое нужно удалить из `my_set`, если оно там есть. Если такого числа нет в `my_set` ничего делать не надо.",
   "id": "18962158aa651348"
  },
  {
   "metadata": {
    "ExecuteTime": {
     "end_time": "2024-12-09T22:02:23.516522Z",
     "start_time": "2024-12-09T22:02:23.508582Z"
    }
   },
   "cell_type": "code",
   "source": [
    "my_set = {0, 10, 100}\n",
    "to_delete = 0\n",
    "#====>\n",
    "my_set = {10, 100} # удалили 0\n",
    "\n",
    "my_set = {0, 10, 100}\n",
    "to_delete = -2\n",
    "#====>\n",
    "my_set = {0, 10, 100} # ничего не сделали\n"
   ],
   "id": "22eaeb7537406de7",
   "outputs": [],
   "execution_count": 7
  },
  {
   "metadata": {
    "ExecuteTime": {
     "end_time": "2024-12-17T12:35:10.018855Z",
     "start_time": "2024-12-17T12:35:10.014257Z"
    }
   },
   "cell_type": "code",
   "source": [
    "# Напиши решение тут\n",
    "my_set = {0, 10, 100}\n",
    "to_delete = 0\n",
    "my_set.discard(to_delete)\n",
    "print(my_set)"
   ],
   "id": "f19b68423faa54c",
   "outputs": [
    {
     "name": "stdout",
     "output_type": "stream",
     "text": [
      "{10, 100}\n"
     ]
    }
   ],
   "execution_count": 79
  },
  {
   "metadata": {},
   "cell_type": "markdown",
   "source": [
    "Вы работаете с данными, организованными в виде кортежей. Давайте обработаем эти данные:\n",
    "У вас есть кортеж `product_info`, содержащий информацию о товаре.\n",
    "Используя методы и операции работы с кортежами:\n",
    "- Проверьте, содержится ли в кортеже название товара, равное `'Laptop'`.\n",
    "- Разделите кортеж на две части: информацию о продавце (первые два элемента) и информацию о товаре (оставшиеся элементы)."
   ],
   "id": "33beb1a562823b0c"
  },
  {
   "metadata": {
    "ExecuteTime": {
     "end_time": "2024-12-09T11:45:48.104653Z",
     "start_time": "2024-12-09T11:45:48.100620Z"
    }
   },
   "cell_type": "code",
   "source": [
    "product_info = (\"John Doe\", \"Electronics Store\", \"Laptop\", \"15-inch\", \"Intel i7\", \"16GB RAM\")\n",
    "hotel_cats = [\n",
    "    (\"Alexei\", \"Barsik\", 3, True),\n",
    "    (\"Maria\", \"Murka\", 5, False),\n",
    "    (\"Ivan\", \"Snejok\", 2, True)\n",
    "]\n"
   ],
   "id": "e03e3edbb0428c6b",
   "outputs": [],
   "execution_count": 1
  },
  {
   "metadata": {
    "ExecuteTime": {
     "end_time": "2024-12-17T12:41:56.285845Z",
     "start_time": "2024-12-17T12:41:56.279804Z"
    }
   },
   "cell_type": "code",
   "source": [
    "# Напиши решение тут\n",
    "product_info = (\"John Doe\", \"Electronics Store\", \"Laptop\", \"15-inch\", \"Intel i7\", \"16GB RAM\")\n",
    "seller_info = []\n",
    "product_info2 = []\n",
    "if 'Laptop' in product_info :\n",
    "    seller_info = product_info[:2]\n",
    "    product_info2 = product_info[2:]\n",
    "    print('Информация о продавце:',seller_info)\n",
    "    print('Информация о товаре:',product_info2)"
   ],
   "id": "251da2042c765254",
   "outputs": [
    {
     "name": "stdout",
     "output_type": "stream",
     "text": [
      "Информация о продавце: ('John Doe', 'Electronics Store')\n",
      "Информация о товаре: ('Laptop', '15-inch', 'Intel i7', '16GB RAM')\n"
     ]
    }
   ],
   "execution_count": 83
  },
  {
   "metadata": {},
   "cell_type": "markdown",
   "source": "В словаре `customer` хранятся имя клиента и список его расходов в интернет-магазине (например, за электронику, одежду и аксессуары). Создайте новый словарь `summary`, в котором будет имя клиента и самая высокая сумма из списка расходов.",
   "id": "9c44b7136aa33652"
  },
  {
   "metadata": {
    "ExecuteTime": {
     "end_time": "2024-12-09T22:06:08.837466Z",
     "start_time": "2024-12-09T22:06:08.832194Z"
    }
   },
   "cell_type": "code",
   "source": [
    "customer = {\n",
    "    \"owner_name\": \"Maria\",\n",
    "    \"expenses\": [120, 200, 150, 300, 250]\n",
    "}"
   ],
   "id": "84e9c57e8b6fc471",
   "outputs": [],
   "execution_count": 8
  },
  {
   "metadata": {
    "ExecuteTime": {
     "end_time": "2024-12-17T12:50:06.320385Z",
     "start_time": "2024-12-17T12:50:06.315347Z"
    }
   },
   "cell_type": "code",
   "source": [
    "customer = {\n",
    "        \"owner_name\": \"Maria\",\n",
    "        \"expenses\": [120, 200, 150, 300, 250]\n",
    "}\n",
    "summary = {\n",
    "    customer[\"owner_name\"]: max(customer[\"expenses\"])\n",
    "}\n",
    "\n",
    "# Выводим результат\n",
    "print(summary)\n"
   ],
   "id": "2fc79f115442b3fd",
   "outputs": [
    {
     "name": "stdout",
     "output_type": "stream",
     "text": [
      "{'Maria': 300}\n"
     ]
    }
   ],
   "execution_count": 90
  },
  {
   "metadata": {},
   "cell_type": "code",
   "outputs": [],
   "execution_count": null,
   "source": "",
   "id": "65523d020400d07"
  }
 ],
 "metadata": {
  "kernelspec": {
   "display_name": "Python 3",
   "language": "python",
   "name": "python3"
  },
  "language_info": {
   "codemirror_mode": {
    "name": "ipython",
    "version": 2
   },
   "file_extension": ".py",
   "mimetype": "text/x-python",
   "name": "python",
   "nbconvert_exporter": "python",
   "pygments_lexer": "ipython2",
   "version": "2.7.6"
  }
 },
 "nbformat": 4,
 "nbformat_minor": 5
}
