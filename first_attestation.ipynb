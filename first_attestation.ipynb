{
 "cells": [
  {
   "metadata": {},
   "cell_type": "markdown",
   "source": [
    "# Аттестация №1"
   ],
   "id": "1453fbd5e471a5cd"
  },
  {
   "metadata": {},
   "cell_type": "markdown",
   "source": [
    "### Задание №1\n",
    "Напишите программу, которая принимает словарь `input_dict` и возвращает строку вида: `ключ=значение&ключ=значение`\n",
    "\n",
    "Строка должна быть лексикографически отсортирована по ключам исходного словаря. Сохраните полученный ответ в `result`."
   ],
   "id": "1db49e463da46021"
  },
  {
   "cell_type": "code",
   "id": "initial_id",
   "metadata": {
    "collapsed": true,
    "ExecuteTime": {
     "end_time": "2025-01-31T18:30:03.252568Z",
     "start_time": "2025-01-31T18:30:03.249531Z"
    }
   },
   "source": [
    "input_dict = {'lesson': 2, 'task': 4, 'course': 'python'}\n",
    "result = 'course=python&lesson=2&task=4'"
   ],
   "outputs": [],
   "execution_count": 66
  },
  {
   "metadata": {
    "ExecuteTime": {
     "end_time": "2025-01-31T18:30:03.286007Z",
     "start_time": "2025-01-31T18:30:03.263582Z"
    }
   },
   "cell_type": "code",
   "source": [
    "def dict_to_query_string(input_dict):\n",
    "    return \"&\".join(f\"{key}={input_dict[key]}\" for key in sorted(input_dict))\n",
    "\n",
    "input_dict = {'lesson': 2, 'task': 4, 'course': 'python'}\n",
    "result = dict_to_query_string(input_dict)\n",
    "print(result)\n"
   ],
   "id": "4025e26c2e18bc2f",
   "outputs": [
    {
     "name": "stdout",
     "output_type": "stream",
     "text": [
      "course=python&lesson=2&task=4\n"
     ]
    }
   ],
   "execution_count": 67
  },
  {
   "metadata": {},
   "cell_type": "markdown",
   "source": [
    "### Задание №2\n",
    "Напишите программу, которая будет принимать число n и проверять, кратна ли каждая его цифра цифре, стоящей слева от нее. Ответ сохраните в `result` в виде массива булевых значений результатов проверок.\n",
    "\n",
    "`result` всегда должен начинаться с False, так как слева от первой цифры ничего нет.\n",
    "\n",
    "Пример:\n",
    "```python\n",
    "n = 462825624\n",
    "result = [False, False, False, True, False, False, False, False, True]\n",
    "```"
   ],
   "id": "782b3120fa932c5d"
  },
  {
   "metadata": {
    "ExecuteTime": {
     "end_time": "2025-01-31T18:30:03.293722Z",
     "start_time": "2025-01-31T18:30:03.291875Z"
    }
   },
   "cell_type": "code",
   "source": "",
   "id": "5238272310c4d37a",
   "outputs": [],
   "execution_count": null
  },
  {
   "metadata": {
    "ExecuteTime": {
     "end_time": "2025-01-31T18:30:03.320466Z",
     "start_time": "2025-01-31T18:30:03.303058Z"
    }
   },
   "cell_type": "code",
   "source": [
    "# Напиши решение тут\n",
    "def check_divisibility(n):\n",
    "    n_str = str(n)\n",
    "    result = [False]  \n",
    "    \n",
    "    for i in range(1, len(n_str)):\n",
    "        prev_digit = int(n_str[i - 1])\n",
    "        current_digit = int(n_str[i])\n",
    "        \n",
    "        if prev_digit != 0 and current_digit % prev_digit == 0:\n",
    "            result.append(True)\n",
    "        else:\n",
    "            result.append(False)\n",
    "    \n",
    "    return result\n",
    "\n",
    "n = 462825624\n",
    "result = check_divisibility(n)\n",
    "print(result)"
   ],
   "id": "657f2f13cbfa3383",
   "outputs": [
    {
     "name": "stdout",
     "output_type": "stream",
     "text": [
      "[False, False, False, True, False, False, False, False, True]\n"
     ]
    }
   ],
   "execution_count": 68
  },
  {
   "metadata": {},
   "cell_type": "markdown",
   "source": [
    "### Задание №3\n",
    "Напишите программу, которая анализирует введенный текст и возвращает статистику. Требуется реализовать **несколько функций**, каждая из которых будет выполнять определенную задачу.\n",
    "\n",
    "---\n",
    "\n",
    "**Остановимся более подробно:**\n",
    "1. Напишите функцию **`count_letters(text)`**, которая возвращает количество букв (только латиницы и кириллицы) в тексте.\n",
    "2. Напишите функцию **`count_digits(text)`**, которая возвращает количество цифр.\n",
    "3. Напишите функцию **`count_words(text)`**, которая возвращает количество слов. Слово — это последовательность букв.\n",
    "4. Напишите функцию **`analyze_text(text)`**, которая вызывает все вышеперечисленные функции и возвращает общий результат в виде словаря:\n",
    "   ```python\n",
    "   {\n",
    "       \"letters\": <количество букв>,\n",
    "       \"digits\": <количество цифр>,\n",
    "       \"words\": <количество слов>\n",
    "   }\n",
    "   ```\n",
    "5. Выведите результат работы функции **`analyze_text`** для введенной строки.\n",
    "\n",
    "\n",
    "**Пример работы программы:**\n",
    "\n",
    "Ввод:\n",
    "```\n",
    "Введите текст: Привет, это тестовый текст 123, с 7 словами!\n",
    "```\n",
    "\n",
    "Вывод:\n",
    "```\n",
    "Анализ текста:\n",
    "Количество букв: 24\n",
    "Количество цифр: 4\n",
    "Количество слов: 7\n",
    "```\n",
    "\n",
    "\n",
    "\n"
   ],
   "id": "68f16e7b8c3ee89b"
  },
  {
   "metadata": {
    "ExecuteTime": {
     "end_time": "2025-01-31T18:30:32.463060Z",
     "start_time": "2025-01-31T18:30:31.539939Z"
    }
   },
   "cell_type": "code",
   "source": [
    "# Напиши решение тут\n",
    "import re\n",
    "\n",
    "def count_letters(text: str) -> int:\n",
    "    return len(re.findall(r'[a-zA-Zа-яА-Я]', text))\n",
    "\n",
    "def count_digits(text: str) -> int:\n",
    "    return len(re.findall(r'\\d', text))\n",
    "\n",
    "def count_words(text: str) -> int:\n",
    "    return len(re.findall(r'\\b[а-яА-Яa-zA-Z]+\\b', text))\n",
    "\n",
    "def analyze_text(text: str) -> dict:\n",
    "    return {\n",
    "        \"letters\": count_letters(text),\n",
    "        \"digits\": count_digits(text),\n",
    "        \"words\": count_words(text)\n",
    "    }\n",
    "\n",
    "def main():\n",
    "    user_input = input(\"Введите текст: \")\n",
    "    result = analyze_text(user_input)\n",
    "    \n",
    "    print(\"\\nАнализ текста:\")\n",
    "    print(f\"Количество букв: {result['letters']}\")\n",
    "    print(f\"Количество цифр: {result['digits']}\")\n",
    "    print(f\"Количество слов: {result['words']}\")\n",
    "\n",
    "if __name__ == \"__main__\":\n",
    "    main()"
   ],
   "id": "dc3147cbb4f8da7c",
   "outputs": [
    {
     "name": "stdout",
     "output_type": "stream",
     "text": [
      "\n",
      "Анализ текста:\n",
      "Количество букв: 30\n",
      "Количество цифр: 4\n",
      "Количество слов: 6\n"
     ]
    }
   ],
   "execution_count": 72
  },
  {
   "metadata": {},
   "cell_type": "markdown",
   "source": [
    "### Задача: Распределение учеников по факультетам Хогвартса\n",
    "\n",
    "В Хогвартсе проходит церемония распределения первокурсников. На основании качеств, которые видит распределяющая шляпа, учеников зачисляют на один из факультетов:  \n",
    "\n",
    "- **Гриффиндор**: отвага, доброта, решительность.  \n",
    "- **Пуффендуй**: усердие, дружелюбие, терпимость.  \n",
    "- **Когтевран**: знание, изобретательность, рассудительность.  \n",
    "- **Слизерин**: амбиции, находчивость, целеустремленность.  \n",
    "\n",
    "Необходимо реализовать функцию `sorting_hat()`, которая принимает словарь с учениками, где:  \n",
    "- **Ключ** — имя ученика.  \n",
    "- **Значение** — качество, определяющее его факультет.  \n",
    "\n",
    "Функция должна вернуть два результата:  \n",
    "\n",
    "1. **sorted_students** — словарь, где ключ — имя ученика, а значение — факультет, на который он зачислен.  \n",
    "   - Данные должны быть отсортированы по названию факультета, а затем по имени ученика.  \n",
    "\n",
    "2. **departments** — словарь, где ключ — факультет, а значение — количество зачисленных учеников.  \n",
    "   - Данные должны быть отсортированы по названию факультета.  \n",
    "\n",
    "### Пример входных данных:  \n",
    "```python\n",
    "new_students = {\n",
    "    'Сириус Блэк': 'отвага',\n",
    "    'Аманда Коршун': 'знание',\n",
    "    'Пенелопа Вулпинголд': 'находчивость',\n",
    "    'Артур Поттер': 'отвага',\n",
    "    'Тесая Блэк': 'изобретательность'\n",
    "}\n",
    "```\n",
    "\n",
    "### Пример результата:  \n",
    "```python\n",
    "# sorted_students:\n",
    "{\n",
    "    'Артур Поттер': 'Гриффиндор',\n",
    "    'Сириус Блэк': 'Гриффиндор',\n",
    "    'Аманда Коршун': 'Когтевран',\n",
    "    'Тесая Блэк': 'Когтевран',\n",
    "    'Пенелопа Вулпинголд': 'Слизерин'\n",
    "}\n",
    "\n",
    "# departments:\n",
    "{\n",
    "    'Гриффиндор': 2,\n",
    "    'Когтевран': 2,\n",
    "    'Пуффендуй': 0,\n",
    "    'Слизерин': 1\n",
    "}\n",
    "```"
   ],
   "id": "9b4c0041c65b1ef2"
  },
  {
   "metadata": {
    "ExecuteTime": {
     "end_time": "2025-01-31T18:32:00.372349Z",
     "start_time": "2025-01-31T18:30:40.844293Z"
    }
   },
   "cell_type": "code",
   "source": [
    "# Напиши решение тут\n",
    "def sorting_hat(students):\n",
    "    house_traits = {\n",
    "        'Гриффиндор': {'отвага', 'доброта', 'решительность'},\n",
    "        'Пуффендуй': {'усердие', 'дружелюбие', 'терпимость'},\n",
    "        'Когтевран': {'знание', 'изобретательность', 'рассудительность'},\n",
    "        'Слизерин': {'амбиции', 'находчивость', 'целеустремленность'}\n",
    "    }\n",
    "    \n",
    "    sorted_students = {}\n",
    "    departments = {house: 0 for house in house_traits.keys()}\n",
    "    \n",
    "    for student, trait in students.items():\n",
    "        for house, traits in house_traits.items():\n",
    "            if trait in traits:\n",
    "                sorted_students[student] = house\n",
    "                departments[house] += 1\n",
    "                break\n",
    "    \n",
    "    sorted_students = dict(sorted(sorted_students.items(), key=lambda x: (x[1], x[0])))\n",
    "    departments = dict(sorted(departments.items()))\n",
    "    \n",
    "    return sorted_students, departments\n",
    "\n",
    "# Ввод данных через консоль\n",
    "students = {}\n",
    "while True:\n",
    "    name = input(\"Введите имя ученика (или 'стоп' для завершения): \")\n",
    "    if name.lower() == 'стоп':\n",
    "        break\n",
    "    trait = input(\"Введите качество ученика: \")\n",
    "    students[name] = trait\n",
    "\n",
    "sorted_students, departments = sorting_hat(students)\n",
    "\n",
    "print(\"Распределение по факультетам:\")\n",
    "for student, house in sorted_students.items():\n",
    "    print(f\"{student}: {house}\")\n",
    "\n",
    "print(\"\\nКоличество учеников по факультетам:\")\n",
    "for house, count in departments.items():\n",
    "    print(f\"{house}: {count}\")\n"
   ],
   "id": "4385d4b355c7121f",
   "outputs": [
    {
     "name": "stdout",
     "output_type": "stream",
     "text": [
      "Распределение по факультетам:\n",
      "даша: Когтевран\n",
      "вадим: Пуффендуй\n",
      "Ион: Слизерин\n",
      "\n",
      "Количество учеников по факультетам:\n",
      "Гриффиндор: 0\n",
      "Когтевран: 1\n",
      "Пуффендуй: 1\n",
      "Слизерин: 1\n"
     ]
    }
   ],
   "execution_count": 73
  },
  {
   "metadata": {},
   "cell_type": "markdown",
   "source": [
    "### Задание №5\n",
    "В `my_string`  хранится зашифрованная строка, например:\n",
    "```python\n",
    "# Зашифрованная строка\n",
    "my_string = 'sccfxpzijc is fuc bcd sxcizicg'\n",
    "```\n",
    "В словаре `secret_dict`  хранится ключ к шифру, набор символов, которые нужно заменить:\n",
    "```python\n",
    "# Словарь шифра\n",
    "\n",
    "secret_dict = {\n",
    "'v': 'w',\n",
    "'x': 'y',\n",
    "'i': 'h',\n",
    "'q': 'l',\n",
    "'c': 'n',\n",
    "'o': 'm',\n",
    "'b': 'a',\n",
    "'f': 'r',\n",
    "'j': 'o',\n",
    "'s': 'e',\n",
    "'z': 't',\n",
    "'g': 'k',\n",
    "'l': ' ',\n",
    "'k': 'c',\n",
    "'m': 'p',\n",
    "'n': 'i',\n",
    "'w': 's',\n",
    "'d': 'f',\n",
    "'u': 'u',\n",
    "'r': 'd',\n",
    "'e': 'x',\n",
    "'y': 'g'}\n",
    "```\n",
    "Таким образом, словарь `secret_dict` говорит нам, что в строке `my_string` букву `v` нужно заменить на `m`, `s` на 'e' и т. д. Если мы сделаем такие замены в строке my_string, то `sckfxmznjclnwlduclbcrlseknzncy` превратится в `encryption is fun and exciting`.\n",
    "\n",
    "Напишите программу, которая расшифровывает строку `my_string = 'nlbolyjccblyszlblzsclnclmxzijc'` при помощи словаря secret_dict. Расшифрованную строку сохраните в переменную decrypted_string."
   ],
   "id": "ac789ebd9aa897d9"
  },
  {
   "metadata": {
    "ExecuteTime": {
     "end_time": "2025-01-31T18:30:07.431446Z",
     "start_time": "2025-01-31T18:29:33.673607Z"
    }
   },
   "cell_type": "code",
   "source": [
    "# Напиши решение тут\n",
    "# Зашифрованная строка\n",
    "my_string = 'nlbolyjccblyszlblzsclnclmxzijc'\n",
    "\n",
    "# Словарь шифра\n",
    "secret_dict = {\n",
    "    'v': 'w', 'x': 'y', 'i': 'h', 'q': 'l', 'c': 'n', 'o': 'm', 'b': 'a',\n",
    "    'f': 'r', 'j': 'o', 's': 'e', 'z': 't', 'g': 'k', 'l': ' ', 'k': 'c',\n",
    "    'm': 'p', 'n': 'i', 'w': 's', 'd': 'f', 'u': 'u', 'r': 'd', 'e': 'x', 'y': 'g'\n",
    "}\n",
    "\n",
    "# Расшифровка строки\n",
    "decrypted_string = ''.join(secret_dict.get(char, char) for char in my_string)\n",
    "\n",
    "# Вывод результата\n",
    "print(decrypted_string)"
   ],
   "id": "48c201ee026f8ae5",
   "outputs": [
    {
     "name": "stdout",
     "output_type": "stream",
     "text": [
      "i am gonna get a ten in python\n"
     ]
    }
   ],
   "execution_count": 65
  }
 ],
 "metadata": {
  "kernelspec": {
   "display_name": "Python 3",
   "language": "python",
   "name": "python3"
  },
  "language_info": {
   "codemirror_mode": {
    "name": "ipython",
    "version": 2
   },
   "file_extension": ".py",
   "mimetype": "text/x-python",
   "name": "python",
   "nbconvert_exporter": "python",
   "pygments_lexer": "ipython2",
   "version": "2.7.6"
  }
 },
 "nbformat": 4,
 "nbformat_minor": 5
}
